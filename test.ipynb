{
 "cells": [
  {
   "cell_type": "markdown",
   "metadata": {},
   "source": [
    "# Aloitus"
   ]
  },
  {
   "cell_type": "code",
   "execution_count": 4,
   "metadata": {},
   "outputs": [
    {
     "name": "stdout",
     "output_type": "stream",
     "text": [
      "Trying to import numpy\n",
      "Trying to import pytest\n",
      "Pytest is imported.\n",
      "Numpy is imported.\n",
      "Matplotlib is imported\n"
     ]
    }
   ],
   "source": [
    "print(\"Trying to import numpy\")\n",
    "try:\n",
    "    import numpy\n",
    "    importnumpy=True\n",
    "except ImportError:\n",
    "    importnumpy=False\n",
    "try:\n",
    "    import matplotlib\n",
    "    importmatplot=True\n",
    "except ImportError:\n",
    "    importmatplot=False\n",
    "\n",
    "\n",
    "print(\"Trying to import pytest\")\n",
    "try:\n",
    "    import pytest\n",
    "    importpytest=True\n",
    "except ImportError:\n",
    "    importpytest=False\n",
    "\n",
    "if (importpytest == True) :\n",
    "    print(\"Pytest is imported.\")\n",
    "else:\n",
    "    print(\"Pytest import failed.\")\n",
    "if (importnumpy == True) :\n",
    "    print(\"Numpy is imported.\")\n",
    "else:\n",
    "    print(\"Numpy import failed.\")\n",
    "\n",
    "if (importmatplot == True) :\n",
    "    print(\"Matplotlib is imported\")\n",
    "else:\n",
    "    print(\"Matplotlib import failed\")"
   ]
  },
  {
   "cell_type": "markdown",
   "metadata": {},
   "source": [
    "## Tests complete"
   ]
  },
  {
   "cell_type": "code",
   "execution_count": 9,
   "metadata": {},
   "outputs": [
    {
     "name": "stdout",
     "output_type": "stream",
     "text": [
      "Hello World!\n"
     ]
    }
   ],
   "source": [
    "try:\n",
    "    import numpy\n",
    "except ImportError:\n",
    "    print(\"Failed\")\n",
    "\n",
    "print(\"Hello World!\")"
   ]
  }
 ],
 "metadata": {
  "kernelspec": {
   "display_name": "koneoppiminen",
   "language": "python",
   "name": "python3"
  },
  "language_info": {
   "codemirror_mode": {
    "name": "ipython",
    "version": 3
   },
   "file_extension": ".py",
   "mimetype": "text/x-python",
   "name": "python",
   "nbconvert_exporter": "python",
   "pygments_lexer": "ipython3",
   "version": "3.12.5"
  }
 },
 "nbformat": 4,
 "nbformat_minor": 2
}
