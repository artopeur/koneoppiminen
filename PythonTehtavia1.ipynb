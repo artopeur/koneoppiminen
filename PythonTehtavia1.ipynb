{
  "cells": [
    {
      "cell_type": "markdown",
      "metadata": {
        "id": "HFK3k_2m9116"
      },
      "source": []
    },
    {
      "cell_type": "markdown",
      "metadata": {
        "id": "gbePPqHX9yUt"
      },
      "source": []
    },
    {
      "cell_type": "markdown",
      "metadata": {
        "id": "0vEXo30QjN_v"
      },
      "source": [
        "<font size=\"6\">\n",
        "Python ohjelmointikielen perusteita\n",
        "- Module import\n",
        "- Kontrollirakenteet\n",
        "- Luokka ja olio\n",
        "\n",
        "</font>\n"
      ]
    },
    {
      "cell_type": "code",
      "execution_count": 1,
      "metadata": {
        "colab": {
          "base_uri": "https://localhost:8080/"
        },
        "id": "0NX6qhM9jAIo",
        "outputId": "9d633012-6dea-4bac-f4b8-f87912b67d2b"
      },
      "outputs": [
        {
          "name": "stdout",
          "output_type": "stream",
          "text": [
            "p:n arvo =  5\n"
          ]
        }
      ],
      "source": [
        "import testModule as testModule\n",
        "\n",
        "testModule.printtaa(5)\n",
        "\n"
      ]
    },
    {
      "cell_type": "code",
      "execution_count": 2,
      "metadata": {
        "colab": {
          "base_uri": "https://localhost:8080/"
        },
        "id": "KSsR6lFGq1KR",
        "outputId": "f4036317-3fcb-4090-ea37-1ebed931aee4"
      },
      "outputs": [
        {
          "name": "stdout",
          "output_type": "stream",
          "text": [
            "nyt suoritit moduulin\n",
            "itsenäisenä\n"
          ]
        }
      ],
      "source": [
        "%run testModule.py"
      ]
    },
    {
      "cell_type": "markdown",
      "metadata": {
        "id": "HcK2lrqiq858"
      },
      "source": [
        "<font size=\"6\">\n",
        "***# Tehtävä 1***\n",
        "Lisää testModule.py tiedostoon aliohjelma distance2D(x1,y1,x2,y2), joka laskee kahden X,Y-tason pisteen välisen etäisyyden. Testaa funktion toiminta importoimalla funktio ja syöttämällä sille\n",
        "\n",
        "</font>"
      ]
    },
    {
      "cell_type": "code",
      "execution_count": 3,
      "metadata": {
        "id": "Zl9CTweasm10"
      },
      "outputs": [
        {
          "name": "stdout",
          "output_type": "stream",
          "text": [
            "funktion inputit\n",
            "1 1\n",
            "x1 = 1\n",
            "x2 = 2\n",
            "y1 = 1\n",
            "y2 = 2\n",
            "etäisyydet x2-x1 = 1\n",
            "etäisyydet y akselilla y2-y1 =  1\n",
            "EROTUS =  1.4142135623730951\n"
          ]
        }
      ],
      "source": [
        "import testModule as tm\n",
        "#import numpy as np\n",
        "\n",
        "#printtaa(2)\n",
        "tm.distance2D(1,1,2,2)\n"
      ]
    },
    {
      "cell_type": "code",
      "execution_count": 4,
      "metadata": {
        "colab": {
          "base_uri": "https://localhost:8080/"
        },
        "id": "3xxxpJbisv5k",
        "outputId": "9962ff83-1976-4d61-a84d-fcac7588b6aa"
      },
      "outputs": [
        {
          "name": "stdout",
          "output_type": "stream",
          "text": [
            "[0, 1, 2, 3, 4, 5, 6, 7, 8, 9, 10, 11, 12, 13, 14, 15, 16, 17, 18, 19]\n"
          ]
        }
      ],
      "source": [
        "# Esimerkkejä kontrollirakenteista\n",
        "\n",
        "x = [] # tyhjä lista\n",
        "for i in range(20):\n",
        "  x.append(i)\n",
        "print(x)"
      ]
    },
    {
      "cell_type": "code",
      "execution_count": 5,
      "metadata": {
        "colab": {
          "base_uri": "https://localhost:8080/"
        },
        "id": "ZSPugnztteOv",
        "outputId": "3b609998-f029-4de5-d6cf-e9c1f00146d2"
      },
      "outputs": [
        {
          "name": "stdout",
          "output_type": "stream",
          "text": [
            "i:n arvo =  0\n",
            "x:n arvo =  eka\n",
            "i:n arvo =  1\n",
            "x:n arvo =  20\n",
            "i:n arvo =  2\n",
            "x:n arvo =  3.5\n"
          ]
        }
      ],
      "source": [
        "lista = [\"eka\",20,3.5]\n",
        "\n",
        "for i,x in enumerate(lista):  # eli ensimmäiseen luuppiparametriin enumerate\n",
        "  print(\"i:n arvo = \", i)     # ja toiseen tulee listan arvot.\n",
        "  print(\"x:n arvo = \", x)"
      ]
    },
    {
      "cell_type": "code",
      "execution_count": 1,
      "metadata": {
        "colab": {
          "base_uri": "https://localhost:8080/",
          "height": 482
        },
        "id": "a05tulQxuw5o",
        "outputId": "21923708-8fc2-4751-e978-12ef795044cf"
      },
      "outputs": [
        {
          "name": "stdout",
          "output_type": "stream",
          "text": [
            "[(-5, 25), (-4, 16), (-3, 9), (-2, 4), (-1, 1), (0, 0), (1, 1), (2, 4), (3, 9), (4, 16), (5, 25)]\n",
            "[-5, -4, -3, -2, -1, 0, 1, 2, 3, 4, 5]\n",
            "[25, 16, 9, 4, 1, 0, 1, 4, 9, 16, 25]\n"
          ]
        },
        {
          "data": {
            "image/png": "[encoded data removed]",
            "text/plain": [
              "<Figure size 640x480 with 1 Axes>"
            ]
          },
          "metadata": {},
          "output_type": "display_data"
        }
      ],
      "source": [
        "import matplotlib.pyplot as plt\n",
        "%matplotlib inline\n",
        "\n",
        "# Luo lista tupleista\n",
        "squares = [(i, i ** 2) for i in range(-5, 6)]\n",
        "\n",
        "# Tulosta lista\n",
        "print(squares)\n",
        "\n",
        "# Hae ensimmäisen tuplen ensimmäinen elementti\n",
        "x = [t[0] for t in squares]\n",
        "print(x)\n",
        "y = [t[1] for t in squares]\n",
        "print(y)\n",
        "\n",
        "plt.plot(x,y)\n",
        "plt.show()\n",
        "\n",
        "\n"
      ]
    },
    {
      "cell_type": "markdown",
      "metadata": {
        "id": "S6yOx-HGyhEg"
      },
      "source": [
        "<font size=\"6\">\n",
        "***# Tehtävä 2***\n",
        "<font size=\"6\">\n",
        "Tee aliohjelma, joka ottaa inputtina x-akselin arvoja ja laskee tuloksena y = f(x) = x**2\n",
        "<font size=\"6\">\n",
        "Tee aliohjelma, joka laskee funktion derivaatat\n",
        "f'(x) = (f(x) + f(x+h)) / h, missä h on pieni luku esim 0.001, joka annetaan funktioon parametrina.\n",
        "\n",
        "Tulosta niin funktion kuin sen derivaatan arvot kuvaajaan.\n",
        "</font>"
      ]
    },
    {
      "cell_type": "code",
      "execution_count": 7,
      "metadata": {
        "colab": {
          "base_uri": "https://localhost:8080/"
        },
        "id": "oZ1Y6MB55HRt",
        "outputId": "3e31f859-7112-4d86-cbdb-f04bbf96267c"
      },
      "outputs": [
        {
          "name": "stdout",
          "output_type": "stream",
          "text": [
            "[-5, -4, -3, -2, -1, 0, 1, 2, 3, 4, 5]\n"
          ]
        }
      ],
      "source": [
        "# Tehtävän 2 ratkaisu tähän\n",
        "# näin voitaisiin toimia, jos tehdään data pythonin listaan.\n",
        "xEiEnaaNain = [i for i in range(-5, 6)]\n",
        "\n",
        "print(x)\n",
        "\n",
        "# mutta parempi tapa olisi alkaa käyttämään numpyn funktioita\n"
      ]
    },
    {
      "cell_type": "code",
      "execution_count": 1,
      "metadata": {
        "colab": {
          "base_uri": "https://localhost:8080/"
        },
        "id": "H2EYamKr6JwK",
        "outputId": "636aa651-723f-4e02-9380-fd2eee1ee1b8"
      },
      "outputs": [
        {
          "name": "stdout",
          "output_type": "stream",
          "text": [
            "[-5, -4, -3, -2, -1, 0, 1, 2, 3, 4, 5]\n",
            "funktiolle lähtevät:  [-4.  -3.5 -3.  -2.5 -2.  -1.5 -1.  -0.5  0.   0.5  1.   1.5  2.   2.5\n",
            "  3.   3.5]\n",
            "Original input:  [-4.  -3.5 -3.  -2.5 -2.  -1.5 -1.  -0.5  0.   0.5  1.   1.5  2.   2.5\n",
            "  3.   3.5]\n",
            "F(x)=x^2:  [16.   12.25  9.    6.25  4.    2.25  1.    0.25  0.    0.25  1.    2.25\n",
            "  4.    6.25  9.   12.25]\n",
            "h:  [0.001, 0.001, 0.001, 0.001, 0.001, 0.001, 0.001, 0.001, 0.001, 0.001, 0.001, 0.001, 0.001, 0.001, 0.001, 0.001]\n",
            "f(x+h) [1.5992001e+01 1.2243001e+01 8.9940010e+00 6.2450010e+00 3.9960010e+00\n",
            " 2.2470010e+00 9.9800100e-01 2.4900100e-01 1.0000000e-06 2.5100100e-01\n",
            " 1.0020010e+00 2.2530010e+00 4.0040010e+00 6.2550010e+00 9.0060010e+00\n",
            " 1.2257001e+01]\n",
            "Derivated f(x)+(f(x+h) /h):  [1.6008001e+04 1.2255251e+04 9.0030010e+03 6.2512510e+03 4.0000010e+03\n",
            " 2.2492510e+03 9.9900100e+02 2.4925100e+02 1.0000000e-03 2.5125100e+02\n",
            " 1.0030010e+03 2.2552510e+03 4.0080010e+03 6.2612510e+03 9.0150010e+03\n",
            " 1.2269251e+04]\n"
          ]
        }
      ],
      "source": [
        "import testModule as tm\n",
        "# Tehtävän 2 ratkaisu tähän\n",
        "# näin voitaisiin toimia, jos tehdään data pythonin listaan.\n",
        "xEiEnaaNain = [i for i in range(-5, 6)]\n",
        "\n",
        "print(xEiEnaaNain)\n",
        "\n",
        "# mutta parempi tapa olisi alkaa käyttämään numpyn funktioita, koska halutaan kuitenkin\n",
        "# käsitellä dataa numpy taulukkoina eikä python listoina.\n",
        "import numpy as np\n",
        "x = np.arange(-4,4,0.5)   # start,stop,step\n",
        "print(\"funktiolle lähtevät: \", x)\n",
        "tm.functionx(x, 0.001)\n"
      ]
    },
    {
      "cell_type": "markdown",
      "metadata": {
        "id": "rxqDQm827KPd"
      },
      "source": [
        "<font size=\"6\">\n",
        "# ***Tehtävä 3 ***\n",
        "Luo 10 alkion mittainen satunnaisia integer lukuja sisältävä datavektori ja käytä haarautumiskäskyjä if,elseif tai else etsiäksesi luodusta datavektorista suurin ja pienin arvottu arvo.\n",
        "\n",
        "Tee funktio, joka palauttaa suurimman, suurimman paikan, pienimmän ja pienimmän paikan vektorissa.\n",
        "</font>"
      ]
    },
    {
      "cell_type": "markdown",
      "metadata": {
        "id": "uTUB8lRr8eY2"
      },
      "source": []
    },
    {
      "cell_type": "code",
      "execution_count": 41,
      "metadata": {
        "id": "GZ3ZHt-C7gZi"
      },
      "outputs": [
        {
          "name": "stdout",
          "output_type": "stream",
          "text": [
            "[ -1   5   5   4   8  -7  10   9   7 -10]\n",
            "10\n",
            "bplace =  6\n",
            "big =  10\n",
            "splace =  9\n",
            "small =  -10\n"
          ]
        }
      ],
      "source": [
        "#Tehtävän 3 ratkaisu tähän\n",
        "def findlocation(a):\n",
        "    print(a.size)\n",
        "    index=0\n",
        "    small = 0\n",
        "    big = 0\n",
        "    pienin=0\n",
        "    suurin=0\n",
        "    splace=0\n",
        "    bplace=0\n",
        "    for i in a:\n",
        "        #print(i)\n",
        "        if big < i:\n",
        "            #print(\"big on suurempi kohdassa \", index)\n",
        "            big=i\n",
        "            bplace=index\n",
        "        #''' # poista # alusta jos halutaan ensimmäinen suurin, jätetään tämä pois, jos halutaan viimeinen suurin annetaan olla. \n",
        "        elif big == i: \n",
        "                #print(\"big - yhtäsuuret, kohdassa:\", index)\n",
        "                big = i\n",
        "                bplace=index\n",
        "        #'''\n",
        "        if small > i:\n",
        "            #print(\"small on pienempi kohdassa \", index)\n",
        "            small=i\n",
        "            splace=index\n",
        "        #''' # poista # alusta jos halutaan ensimmäinen pienin, jätetään tämä pois, jos halutaan viimeinen pienin annetaan olla.\n",
        "        elif small == i: \n",
        "                #print(\"small - yhtäsuuret, kohdassa:\", index)\n",
        "                small = i\n",
        "                splace=index\n",
        "        #''' \n",
        "        index = index+1\n",
        "    index=0\n",
        "    \n",
        "    #print(b)\n",
        "    print(\"bplace = \", bplace)\n",
        "    print(\"big = \", big)\n",
        "    print(\"splace = \", splace)\n",
        "    print(\"small = \", small)\n",
        "\n",
        "\n",
        "import numpy as np\n",
        "\n",
        "# Määritä parametrit\n",
        "low = -10  # Alaraja (sisältää)\n",
        "high = 11  # Yläraja (ei sisällä)\n",
        "size = 10  # Kuinka monta satunnaista kokonaislukua haluat luoda\n",
        "\n",
        "# Luo satunnaisia kokonaislukuja\n",
        "random_integers = np.random.randint(low, high, size)\n",
        "\n",
        "print(random_integers)\n",
        "\n",
        "\n",
        "\n",
        "findlocation(random_integers)"
      ]
    },
    {
      "cell_type": "markdown",
      "metadata": {
        "id": "JjJZPiqu94-y"
      },
      "source": [
        "<font size=\"6\">\n",
        "# Luokka ja olio\n",
        "</font>"
      ]
    },
    {
      "cell_type": "code",
      "execution_count": 42,
      "metadata": {
        "colab": {
          "base_uri": "https://localhost:8080/"
        },
        "id": "VqG2IO3Q-BB_",
        "outputId": "67482ff3-192a-4070-bb85-0d92918fd3a7"
      },
      "outputs": [
        {
          "name": "stdout",
          "output_type": "stream",
          "text": [
            "Auto: Toyota Corolla, Vuosi: 2022, Käynnissä: False\n",
            "Toyota Corolla on nyt käynnissä.\n",
            "Toyota Corolla on jo käynnissä.\n",
            "Toyota Corolla on sammutettu.\n",
            "Toyota Corolla on jo sammutettu.\n"
          ]
        }
      ],
      "source": [
        "\n",
        "class Auto:\n",
        "    def __init__(self, merkki, malli, vuosi):\n",
        "        \"\"\"Luokan konstruktori, joka alustaa auton ominaisuudet.\"\"\"\n",
        "        self.merkki = merkki\n",
        "        self.malli = malli\n",
        "        self.vuosi = vuosi\n",
        "        self.kaynnissa = False\n",
        "\n",
        "    def kaynnista(self):\n",
        "        \"\"\"Metodi auton käynnistämiseksi.\"\"\"\n",
        "        if not self.kaynnissa:\n",
        "            self.kaynnissa = True\n",
        "            print(f\"{self.merkki} {self.malli} on nyt käynnissä.\")\n",
        "        else:\n",
        "            print(f\"{self.merkki} {self.malli} on jo käynnissä.\")\n",
        "\n",
        "    def sammuttaa(self):\n",
        "        \"\"\"Metodi auton sammuttamiseksi.\"\"\"\n",
        "        if self.kaynnissa:\n",
        "            self.kaynnissa = False\n",
        "            print(f\"{self.merkki} {self.malli} on sammutettu.\")\n",
        "        else:\n",
        "            print(f\"{self.merkki} {self.malli} on jo sammutettu.\")\n",
        "\n",
        "    def tiedot(self):\n",
        "        \"\"\"Metodi auton tietojen tulostamiseksi.\"\"\"\n",
        "        print(f\"Auto: {self.merkki} {self.malli}, Vuosi: {self.vuosi}, Käynnissä: {self.kaynnissa}\")\n",
        "\n",
        "# Luo Auto-luokan olio\n",
        "auto1 = Auto(\"Toyota\", \"Corolla\", 2022)\n",
        "\n",
        "# Käytä Auto-luokan metodeja\n",
        "auto1.tiedot()        # Tulostaa auton tiedot\n",
        "auto1.kaynnista()    # Käynnistää auton\n",
        "auto1.kaynnista()    # Yritetään käynnistää auto uudelleen\n",
        "auto1.sammuttaa()    # Sammuttaa auton\n",
        "auto1.sammuttaa()    # Yritetään sammuttaa auto uudelleen"
      ]
    },
    {
      "cell_type": "markdown",
      "metadata": {
        "id": "b8QTelr6Ai7-"
      },
      "source": [
        "<font size=\"6\">\n",
        "\n",
        "</font>"
      ]
    },
    {
      "cell_type": "markdown",
      "metadata": {
        "id": "gKYhLdLKBU4z"
      },
      "source": [
        "<font size=\"6\">\n",
        "Tehtävä 4:\n",
        "Tee edellisen esimerkin avulla luokka, jolla voidaan luoda datavektori. Luokalla pitää olla ainakin seuraavat metodit:\n",
        "__init__ (alustaa luokkaan 100 pisteen datavektorin pelkkiä nollia)\n",
        "<font size=\"6\">\n",
        "createRandomData (luo niin monta satunnaista pistettä, kuin luokan datasize parametri määrää)\n",
        "<font size=\"6\">\n",
        "createSineData\n",
        "<font size=\"6\">\n",
        "ShowData\n",
        "<font size=\"6\">\n",
        "SetDataParameters (asettaa datasize parametrin)\n",
        "<font size=\"6\">\n",
        "Testaa luokan toiminta.\n",
        "</font>"
      ]
    },
    {
      "cell_type": "code",
      "execution_count": 10,
      "metadata": {},
      "outputs": [
        {
          "name": "stdout",
          "output_type": "stream",
          "text": [
            "Show data:\n",
            "[[0 0]\n",
            " [0 0]\n",
            " [0 0]\n",
            " [0 0]\n",
            " [0 0]\n",
            " [0 0]\n",
            " [0 0]\n",
            " [0 0]\n",
            " [0 0]\n",
            " [0 0]\n",
            " [0 0]\n",
            " [0 0]\n",
            " [0 0]\n",
            " [0 0]\n",
            " [0 0]\n",
            " [0 0]\n",
            " [0 0]\n",
            " [0 0]\n",
            " [0 0]\n",
            " [0 0]\n",
            " [0 0]\n",
            " [0 0]\n",
            " [0 0]\n",
            " [0 0]\n",
            " [0 0]\n",
            " [0 0]\n",
            " [0 0]\n",
            " [0 0]\n",
            " [0 0]\n",
            " [0 0]\n",
            " [0 0]\n",
            " [0 0]\n",
            " [0 0]\n",
            " [0 0]\n",
            " [0 0]\n",
            " [0 0]\n",
            " [0 0]\n",
            " [0 0]\n",
            " [0 0]\n",
            " [0 0]\n",
            " [0 0]\n",
            " [0 0]\n",
            " [0 0]\n",
            " [0 0]\n",
            " [0 0]\n",
            " [0 0]\n",
            " [0 0]\n",
            " [0 0]\n",
            " [0 0]\n",
            " [0 0]\n",
            " [0 0]\n",
            " [0 0]\n",
            " [0 0]\n",
            " [0 0]\n",
            " [0 0]\n",
            " [0 0]\n",
            " [0 0]\n",
            " [0 0]\n",
            " [0 0]\n",
            " [0 0]\n",
            " [0 0]\n",
            " [0 0]\n",
            " [0 0]\n",
            " [0 0]\n",
            " [0 0]\n",
            " [0 0]\n",
            " [0 0]\n",
            " [0 0]\n",
            " [0 0]\n",
            " [0 0]\n",
            " [0 0]\n",
            " [0 0]\n",
            " [0 0]\n",
            " [0 0]\n",
            " [0 0]\n",
            " [0 0]\n",
            " [0 0]\n",
            " [0 0]\n",
            " [0 0]\n",
            " [0 0]\n",
            " [0 0]\n",
            " [0 0]\n",
            " [0 0]\n",
            " [0 0]\n",
            " [0 0]\n",
            " [0 0]\n",
            " [0 0]\n",
            " [0 0]\n",
            " [0 0]\n",
            " [0 0]\n",
            " [0 0]\n",
            " [0 0]\n",
            " [0 0]\n",
            " [0 0]\n",
            " [0 0]\n",
            " [0 0]\n",
            " [0 0]\n",
            " [0 0]\n",
            " [0 0]\n",
            " [0 0]]\n",
            "SineData\n",
            "dataParameters is set to:  0\n",
            "The size of randomData is:  100\n",
            "Setting dataParameters to:  80\n",
            "creating data:\n",
            "Show data:\n",
            "[[ -8  -2]\n",
            " [  6  -3]\n",
            " [ -5  -9]\n",
            " [ -2  -5]\n",
            " [  9   3]\n",
            " [  8   4]\n",
            " [  2  -3]\n",
            " [  3  -3]\n",
            " [ -9   6]\n",
            " [ -1   1]\n",
            " [ -6   0]\n",
            " [  0  -9]\n",
            " [ -7  -3]\n",
            " [  6   1]\n",
            " [  7   1]\n",
            " [ -5  -2]\n",
            " [ -2  -9]\n",
            " [ 10   6]\n",
            " [ -6  -1]\n",
            " [ 10   9]\n",
            " [-10  -9]\n",
            " [ -7   4]\n",
            " [  7  -4]\n",
            " [-10 -10]\n",
            " [ 10   8]\n",
            " [ -8  -4]\n",
            " [  4   5]\n",
            " [  6   8]\n",
            " [  6   5]\n",
            " [ -7  -9]\n",
            " [ -8  -9]\n",
            " [ -9   5]\n",
            " [ -9  -2]\n",
            " [  9   4]\n",
            " [ -8  -9]\n",
            " [  8  -5]\n",
            " [ -7   3]\n",
            " [ -5   7]\n",
            " [  0 -10]\n",
            " [  8 -10]\n",
            " [  5  -4]\n",
            " [ -4   8]\n",
            " [  9   6]\n",
            " [  7  -6]\n",
            " [  3  -8]\n",
            " [  2   6]\n",
            " [  4   0]\n",
            " [  6   9]\n",
            " [  1   2]\n",
            " [ 10   0]\n",
            " [ -8   5]\n",
            " [  6   5]\n",
            " [  0 -10]\n",
            " [  5   8]\n",
            " [  0  -6]\n",
            " [ -7 -10]\n",
            " [ -4  -5]\n",
            " [  6   6]\n",
            " [ -2  -8]\n",
            " [  9   8]\n",
            " [ -3   1]\n",
            " [ -3 -10]\n",
            " [ -6  -2]\n",
            " [ -1   1]\n",
            " [  1   8]\n",
            " [ -7   5]\n",
            " [ -6   1]\n",
            " [  4  10]\n",
            " [  0   0]\n",
            " [  5  -8]\n",
            " [  0   1]\n",
            " [  8   1]\n",
            " [ -6  -4]\n",
            " [ -7   6]\n",
            " [-10  -1]\n",
            " [ -9 -10]\n",
            " [  3  -7]\n",
            " [  6  -8]\n",
            " [ -5  -4]\n",
            " [ -8 -10]\n",
            " [  0   0]\n",
            " [  0   0]\n",
            " [  0   0]\n",
            " [  0   0]\n",
            " [  0   0]\n",
            " [  0   0]\n",
            " [  0   0]\n",
            " [  0   0]\n",
            " [  0   0]\n",
            " [  0   0]\n",
            " [  0   0]\n",
            " [  0   0]\n",
            " [  0   0]\n",
            " [  0   0]\n",
            " [  0   0]\n",
            " [  0   0]\n",
            " [  0   0]\n",
            " [  0   0]\n",
            " [  0   0]\n",
            " [  0   0]]\n",
            "SineData\n",
            "dataParameters is set to:  80\n",
            "The size of randomData is:  100\n",
            "Sine Data:\n",
            "[ -8   6  -5  -2   9   8   2   3  -9  -1  -6   0  -7   6   7  -5  -2  10\n",
            "  -6  10 -10  -7   7 -10  10  -8   4   6   6  -7  -8  -9  -9   9  -8   8\n",
            "  -7  -5   0   8   5  -4   9   7   3   2   4   6   1  10  -8   6   0   5\n",
            "   0  -7  -4   6  -2   9  -3  -3  -6  -1   1  -7  -6   4   0   5   0   8\n",
            "  -6  -7 -10  -9   3   6  -5  -8   0   0   0   0   0   0   0   0   0   0\n",
            "   0   0   0   0   0   0   0   0   0   0]\n",
            "[ -2  -3  -9  -5   3   4  -3  -3   6   1   0  -9  -3   1   1  -2  -9   6\n",
            "  -1   9  -9   4  -4 -10   8  -4   5   8   5  -9  -9   5  -2   4  -9  -5\n",
            "   3   7 -10 -10  -4   8   6  -6  -8   6   0   9   2   0   5   5 -10   8\n",
            "  -6 -10  -5   6  -8   8   1 -10  -2   1   8   5   1  10   0  -8   1   1\n",
            "  -4   6  -1 -10  -7  -8  -4 -10   0   0   0   0   0   0   0   0   0   0\n",
            "   0   0   0   0   0   0   0   0   0   0]\n"
          ]
        },
        {
          "data": {
            "image/png": "[encoded data removed]",
            "text/plain": [
              "<Figure size 640x480 with 1 Axes>"
            ]
          },
          "metadata": {},
          "output_type": "display_data"
        }
      ],
      "source": [
        "import numpy as np\n",
        "import matplotlib.pyplot as mpl\n",
        "class Esimerkki:\n",
        "    def __init__(self):\n",
        "        \"\"\"Luokan konstruktori, joka alustaa vektorin\"\"\"\n",
        "        #self.randomData = \"randomData\"\n",
        "        self.low = -10  # Alaraja (sisältää)\n",
        "        self.high = 11  # Yläraja (ei sisällä)\n",
        "        self.size = 2  # Kuinka monta satunnaista kokonaislukua haluat luoda\n",
        "        self.randomData = np.array([[0, 0] ]* 100)\n",
        "        #self.randomData = (np.random.randint(self.low,self.high,self.size))\n",
        "        self.SineData = \"SineData\"\n",
        "        self.dataParameters = 0\n",
        "\n",
        "    def createRandomData(self):\n",
        "        print(\"creating data:\")\n",
        "        for i in range(self.dataParameters):\n",
        "            #print(\"value of i: \", i)\n",
        "            #print(np.random.randint(self.low,self.high,2))\n",
        "            self.randomData[i] = np.array(np.random.randint(self.low,self.high,self.size))\n",
        "        #self.randomData = [(setrand)] * self.dataParameters\n",
        "        \n",
        "    def createSineData(self):\n",
        "        print(\"Sine Data:\")\n",
        "        #x = [t[0] for t in squares]\n",
        "        x = np.array([i[0] for i in self.randomData])\n",
        "        y = np.array([i[1] for i in self.randomData])\n",
        "        print(x)\n",
        "        print(y)\n",
        "        #mpl.plot(x,y)\n",
        "        mpl.scatter(x,y)\n",
        "        mpl.show()\n",
        "        \n",
        "    def ShowData(self):\n",
        "        print(\"Show data:\")\n",
        "        print(self.randomData)\n",
        "        print(self.SineData)\n",
        "        print(\"dataParameters is set to: \",self.dataParameters)\n",
        "        print(\"The size of randomData is: \", len(self.randomData))\n",
        "    def SetDataParameters(self, num):\n",
        "        print(\"Setting dataParameters to: \", num)\n",
        "        self.dataParameters = num\n",
        "        \n",
        "\n",
        "vektori1 = Esimerkki()\n",
        "\n",
        "\n",
        "vektori1.ShowData()\n",
        "vektori1.SetDataParameters(80)\n",
        "vektori1.createRandomData()\n",
        "vektori1.ShowData()\n",
        "vektori1.createSineData()\n"
      ]
    }
  ],
  "metadata": {
    "colab": {
      "provenance": []
    },
    "kernelspec": {
      "display_name": "Python 3",
      "name": "python3"
    },
    "language_info": {
      "codemirror_mode": {
        "name": "ipython",
        "version": 3
      },
      "file_extension": ".py",
      "mimetype": "text/x-python",
      "name": "python",
      "nbconvert_exporter": "python",
      "pygments_lexer": "ipython3",
      "version": "3.12.5"
    }
  },
  "nbformat": 4,
  "nbformat_minor": 0
}
