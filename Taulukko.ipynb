{
 "cells": [
  {
   "cell_type": "code",
   "execution_count": null,
   "metadata": {},
   "outputs": [],
   "source": []
  },
  {
   "cell_type": "markdown",
   "metadata": {},
   "source": [
    "# Tutortunnin taulukko\n",
    " - Tee taulukko alla olevan mukaisesti\n",
    "\n",
    " 11 12  13  14  15\n",
    " 16 17  18  19  20\n",
    " 21 22  23  24  25\n",
    " 26 27  28  29  30\n",
    " 31 32  33  34  \n",
    " \n",
    " - tee tauluun seuraavat haut\n",
    "  - joka toinen arvo joka toiselta riviltä (11,13,15, 21,23,25, 31, 33, 35)\n",
    "  - toisen ja neljännen rivin ensimmäiset arvot (16, 26)\n",
    "  - toisen sarakkeen kaikki arvot (12,17,22,27,32)\n",
    "  - ensimmäisen rivin toinen ja neljäs arvo (12,14)"
   ]
  },
  {
   "cell_type": "code",
   "execution_count": 83,
   "metadata": {},
   "outputs": [
    {
     "name": "stdout",
     "output_type": "stream",
     "text": [
      "[[11 12 13 14 15]\n",
      " [16 17 18 19 20]\n",
      " [21 22 23 24 25]\n",
      " [26 27 28 29 30]\n",
      " [31 32 33 34 35]]\n",
      "[[11 13 15]\n",
      " [21 23 25]\n",
      " [31 33 35]]\n",
      "[16 26]\n",
      "[12 17 22 27 32]\n",
      "[12 14]\n",
      "<class 'numpy.ndarray'>\n"
     ]
    }
   ],
   "source": [
    "import numpy as np\n",
    "\n",
    "# myös näin\n",
    "#a = np.arange(11,36,1).reshape((5,5))\n",
    "a = np.arange(11,36,1)\n",
    "a = np.reshape(a, (5,5))\n",
    "print(a)\n",
    "\n",
    "\n",
    "\n",
    "#Slice valitaan joka toinen joka toiselta riviltä\n",
    "print(a[::2,::2])\n",
    "b = a[::2,::2]\n",
    "\n",
    "#Joka toinen toisesta sarakkeesta\n",
    "print(a[1::2,0])\n",
    "c = a[1::2,0]\n",
    "#toinen sarake\n",
    "print(a[:,1])\n",
    "d = a[:,1]\n",
    "\n",
    "# ensimmäisen rivin toinen ja neljäs arvo\n",
    "print(a[0,1::2])\n",
    "e = a[0,1::2]\n",
    "\n",
    "print\n"
   ]
  }
 ],
 "metadata": {
  "kernelspec": {
   "display_name": "koneoppiminen",
   "language": "python",
   "name": "python3"
  },
  "language_info": {
   "codemirror_mode": {
    "name": "ipython",
    "version": 3
   },
   "file_extension": ".py",
   "mimetype": "text/x-python",
   "name": "python",
   "nbconvert_exporter": "python",
   "pygments_lexer": "ipython3",
   "version": "3.12.5"
  }
 },
 "nbformat": 4,
 "nbformat_minor": 2
}
