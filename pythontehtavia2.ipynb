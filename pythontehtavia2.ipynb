{
  "cells": [
    {
      "cell_type": "code",
      "execution_count": 13,
      "metadata": {
        "colab": {
          "base_uri": "https://localhost:8080/"
        },
        "id": "KzyqKKhQGsXn",
        "outputId": "4dd06195-eaf2-46ae-fea5-ae3b88884f41"
      },
      "outputs": [
        {
          "name": "stdout",
          "output_type": "stream",
          "text": [
            "[[9 5 7 9]\n",
            " [9 5 6 3]\n",
            " [9 2 6 3]]\n",
            "shape =  (3, 4)\n",
            "dtype =  int64\n",
            "itemsize =  8\n",
            "size =  12\n",
            "ndim =  2\n",
            "nbytes =  96\n",
            "strides =  (32, 8)\n",
            "miksi myos b muuttuu => [[100   5   7   9]\n",
            " [  9   5   6   3]\n",
            " [  9   2   6   3]]\n",
            "[[100   5   7   9]\n",
            " [  9   5   6   3]\n",
            " [  9   2   6   3]]\n"
          ]
        }
      ],
      "source": [
        "import numpy as np\n",
        "\n",
        "a = np.random.randint(10, size=(3, 4))\n",
        "print(a)\n",
        "print(\"shape = \", a.shape)\n",
        "print(\"dtype = \", a.dtype)\n",
        "print(\"itemsize = \", a.itemsize)\n",
        "print(\"size = \", a.size)\n",
        "print(\"ndim = \", a.ndim)\n",
        "print(\"nbytes = \", a.nbytes)\n",
        "print(\"strides = \", a.strides)\n",
        "b = a\n",
        "a[0, 0] = 100\n",
        "print(\"miksi myos b muuttuu =>\",b)\n",
        "\n",
        "b = a.copy()\n",
        "a[0, 0] = 1\n",
        "print(b)\n",
        "\n"
      ]
    },
    {
      "cell_type": "markdown",
      "metadata": {
        "id": "NrTvFAHGG916"
      },
      "source": [
        "Numpy tehtäviä:\n",
        "\n",
        "1. Numpy taulukon luonti\n",
        "  - np.zeros\n",
        "  - np.ones\n",
        "  - np.random.ranint\n",
        "  - np.random.randn\n",
        "  - np.arange\n",
        "  - np.linspace\n",
        "\n",
        "2. Tehdään 3D taulukko punainen, sininen, vihreä harmaa\n",
        "   kuva\n",
        "\n",
        "3. Tee aliohjelma, jolle voi syöttää 2-uloitteisen taulukon. Ohjelma tulostaa miltä riviltä ja mistä sarakkeesta löytyi annetun taulukon minimi ja mistä maksimi arvo.\n",
        "\n",
        "4. Tee tuo edellinen tehtävä luokkana, jossa on metodeina\n",
        "__init__ (luo satunnaisen taulukon, jossa on konstruktorille annettu row ja col määrä rivejä ja sarakkeita)\n",
        "\n",
        "printtaa tulostaa taulukon arvon\n",
        "\n",
        "nollaa nollaa taulukosta kaikki annettua thresholdia pienemmät arvot\n",
        "\n",
        "aseta asettaa taulukon kaikki arvot ykköseksi, jotka ylittävät thresholdin\n",
        "\n",
        "minPos tulostaa miltä riviltä ja mistä sarakkeesta löytyy minimi arvo.\n",
        "\n",
        "maxPos tulostaa miltä riviltä ja mistä sarakkeesta löytyy maksimi arvo."
      ]
    },
    {
      "cell_type": "markdown",
      "metadata": {},
      "source": [
        "# Tehtävä 1 vastaus"
      ]
    },
    {
      "cell_type": "code",
      "execution_count": 3,
      "metadata": {},
      "outputs": [
        {
          "name": "stdout",
          "output_type": "stream",
          "text": [
            "[0. 0. 0. 0. 0. 0. 0. 0. 0. 0.]\n"
          ]
        }
      ],
      "source": [
        "import numpy as np\n",
        "\n",
        "temp = np.zeros(10)\n",
        "\n",
        "print(temp)"
      ]
    },
    {
      "cell_type": "code",
      "execution_count": 25,
      "metadata": {},
      "outputs": [
        {
          "name": "stdout",
          "output_type": "stream",
          "text": [
            "[[[0. 0. 0.]\n",
            "  [0. 0. 0.]\n",
            "  [0. 0. 0.]]\n",
            "\n",
            " [[0. 0. 0.]\n",
            "  [0. 0. 0.]\n",
            "  [0. 0. 0.]]\n",
            "\n",
            " [[0. 0. 0.]\n",
            "  [0. 0. 0.]\n",
            "  [0. 0. 0.]]]\n",
            "[[[0.64935628 0.68073016 0.72920019]\n",
            "  [0.92190971 0.52057151 0.87075619]\n",
            "  [0.41132246 0.25362063 0.69516507]]\n",
            "\n",
            " [[0.20304458 0.64437642 0.29421409]\n",
            "  [0.39299255 0.41851438 0.42977102]\n",
            "  [0.11793811 0.28732652 0.49447481]]\n",
            "\n",
            " [[0.92635744 0.48152859 0.60839348]\n",
            "  [0.38246818 0.63939992 0.36984817]\n",
            "  [0.38884894 0.31098362 0.83652431]]]\n"
          ]
        },
        {
          "data": {
            "text/plain": [
              "<matplotlib.image.AxesImage at 0x1903c4f00b0>"
            ]
          },
          "execution_count": 25,
          "metadata": {},
          "output_type": "execute_result"
        },
        {
          "data": {
            "image/png": "[encoded data removed]",
            "text/plain": [
              "<Figure size 640x480 with 1 Axes>"
            ]
          },
          "metadata": {},
          "output_type": "display_data"
        }
      ],
      "source": [
        "import numpy as np\n",
        "import matplotlib.pyplot as plt\n",
        "\n",
        "x = np.zeros((3,3,3))\n",
        "print(x)\n",
        "x = np.random.rand(3,3,3)\n",
        "print(x)\n",
        "\n",
        "plt.imshow(x, cmap=\"gray\", vmin=0, vmax=1)\n"
      ]
    },
    {
      "cell_type": "markdown",
      "metadata": {},
      "source": [
        "# Tehtävä 2 vastaus"
      ]
    },
    {
      "cell_type": "code",
      "execution_count": 72,
      "metadata": {},
      "outputs": [
        {
          "data": {
            "text/plain": [
              "<matplotlib.image.AxesImage at 0x1903edba4e0>"
            ]
          },
          "execution_count": 72,
          "metadata": {},
          "output_type": "execute_result"
        },
        {
          "data": {
            "image/png": "[encoded data removed]",
            "text/plain": [
              "<Figure size 640x480 with 1 Axes>"
            ]
          },
          "metadata": {},
          "output_type": "display_data"
        }
      ],
      "source": [
        "import numpy as np\n",
        "import matplotlib.pyplot as plt\n",
        "\n",
        "kuva = np.zeros((100,100,3))\n",
        "\n",
        "kuva[0:50, 0:50,0] =np.ones((50,50))\n",
        "kuva[0:50, 50:100,1] = np.ones((50,50))\n",
        "kuva[50:100, 0:50,2] = np.ones((50,50))\n",
        "\n",
        "\n",
        "kuva[50:100, 50:100, 0] = np.ones((50,50))\n",
        "kuva[50:100, 50:100, 1] = np.ones((50,50))\n",
        "kuva[50:100, 50:100, 2] = np.ones((50,50))\n",
        "plt.imshow(kuva)"
      ]
    },
    {
      "cell_type": "markdown",
      "metadata": {},
      "source": [
        "# VASTAUS 3\n",
        "3. Tee aliohjelma, jolle voi syöttää 2-uloitteisen taulukon. Ohjelma tulostaa miltä riviltä ja mistä sarakkeesta löytyi annetun taulukon minimi ja mistä maksimi arvo.\n",
        "\n",
        "4. Tee tuo edellinen tehtävä luokkana, jossa on metodeina\n",
        "__init__ (luo satunnaisen taulukon, jossa on konstruktorille annettu row ja col määrä rivejä ja sarakkeita)\n",
        "\n",
        "printtaa tulostaa taulukon arvon\n",
        "\n",
        "nollaa nollaa taulukosta kaikki annettua thresholdia pienemmät arvot\n",
        "\n",
        "aseta asettaa taulukon kaikki arvot ykköseksi, jotka ylittävät thresholdin\n",
        "\n",
        "minPos tulostaa miltä riviltä ja mistä sarakkeesta löytyy minimi arvo.\n",
        "\n",
        "maxPos tulostaa miltä riviltä ja mistä sarakkeesta löytyy maksimi arvo."
      ]
    },
    {
      "cell_type": "code",
      "execution_count": 34,
      "metadata": {},
      "outputs": [
        {
          "name": "stdout",
          "output_type": "stream",
          "text": [
            "init\n",
            "[[[ 84  33  94  32]\n",
            "  [225  47 174  67]\n",
            "  [140 170  58  97]\n",
            "  [ 75 223 155  47]]]\n",
            "Suurin Arvo:\n",
            "225\n",
            "[0 1 0]\n",
            "pienin arvo: \n",
            "32\n",
            "[0 0 3]\n",
            "Nollataan thresholdia pienemmät\n",
            "[[[ 84   0  94   0]\n",
            "  [225   0 174  67]\n",
            "  [140 170  58  97]\n",
            "  [ 75 223 155   0]]]\n",
            "Asetetaan thresholdia suuremmat\n",
            "[[[ 84   0  94   0]\n",
            "  [  1   0   1  67]\n",
            "  [140   1  58  97]\n",
            "  [ 75   1   1   0]]]\n"
          ]
        }
      ],
      "source": [
        "import numpy as np\n",
        "import matplotlib.pyplot as plt\n",
        "\n",
        "class taulu:\n",
        "    def __init__(self, arow, acol):\n",
        "        print(\"init\")\n",
        "        self.row = arow\n",
        "        self.col = acol\n",
        "        self.array = np.random.randint(0, high=255, size=(1, self.col, self.row))\n",
        "        self.min = (0,0)\n",
        "        self.max = (0,0)\n",
        "        \n",
        "        \n",
        "    def test(self):\n",
        "        print(\"test\")\n",
        "        print(self.row)\n",
        "        print(self.col)\n",
        "\n",
        "    def printtaa(self):\n",
        "        print(self.array)\n",
        "    \n",
        "    def nollaa(self, threshold):\n",
        "        #self.array = np.array([np.zeros(self.row)]*self.col)\n",
        "        print(\"Nollataan thresholdia pienemmät\")\n",
        "        self.array = np.where(self.array > threshold, self.array, 0)\n",
        "\n",
        "    def aseta(self, threshold):\n",
        "        print(\"Asetetaan thresholdia suuremmat\")\n",
        "        self.array = np.where(self.array < threshold, self.array, 1)\n",
        "    def minPos(self):\n",
        "        print(\"pienin arvo: \")\n",
        "        print(np.amin(self.array))\n",
        "        self.min = np.array(np.unravel_index(self.array.argmin(), self.array.shape))\n",
        "        print(self.min)\n",
        "    def maxPos(self):\n",
        "        print(\"Suurin Arvo:\")\n",
        "        print(np.amax(self.array))\n",
        "        np.argmax(self.array, axis=-1)\n",
        "        self.max = np.array(np.unravel_index(self.array.argmax(), self.array.shape))\n",
        "        print(self.max)\n",
        "\n",
        "\n",
        "m1 = taulu(4,4)\n",
        "m1.printtaa()\n",
        "m1.maxPos()\n",
        "m1.minPos()\n",
        "m1.nollaa(50)\n",
        "m1.printtaa()\n",
        "m1.aseta(150)\n",
        "m1.printtaa()\n"
      ]
    }
  ],
  "metadata": {
    "colab": {
      "provenance": []
    },
    "kernelspec": {
      "display_name": "Python 3",
      "name": "python3"
    },
    "language_info": {
      "codemirror_mode": {
        "name": "ipython",
        "version": 3
      },
      "file_extension": ".py",
      "mimetype": "text/x-python",
      "name": "python",
      "nbconvert_exporter": "python",
      "pygments_lexer": "ipython3",
      "version": "3.12.5"
    }
  },
  "nbformat": 4,
  "nbformat_minor": 0
}
